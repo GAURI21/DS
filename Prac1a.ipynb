{
  "nbformat": 4,
  "nbformat_minor": 0,
  "metadata": {
    "colab": {
      "name": "Prac1a.ipynb",
      "provenance": [],
      "authorship_tag": "ABX9TyPS4vdKrnGbNnmyRcGRL0ls",
      "include_colab_link": true
    },
    "kernelspec": {
      "name": "python3",
      "display_name": "Python 3"
    }
  },
  "cells": [
    {
      "cell_type": "markdown",
      "metadata": {
        "id": "view-in-github",
        "colab_type": "text"
      },
      "source": [
        "<a href=\"https://colab.research.google.com/github/GAURI21/DS/blob/master/Prac1a.ipynb\" target=\"_parent\"><img src=\"https://colab.research.google.com/assets/colab-badge.svg\" alt=\"Open In Colab\"/></a>"
      ]
    },
    {
      "cell_type": "code",
      "metadata": {
        "id": "OT3wVOxyIANH",
        "outputId": "87604593-15ce-4f8e-d7ee-3434b7789333",
        "colab": {
          "base_uri": "https://localhost:8080/",
          "height": 106
        }
      },
      "source": [
        " arr1=[12,15,17,13,14,16]\n",
        "arr2=['hello','hi','hey']\n",
        "arr3=[2,4,5,3,1,6]\n",
        " \n",
        "index=arr1.index(13)\n",
        "print(index)\n",
        " \n",
        "arr1.sort()\n",
        "print(arr1)\n",
        " \n",
        "arr1.extend(arr2)\n",
        "print(arr1)\n",
        " \n",
        "arr3.reverse()\n",
        "print(arr3)"
      ],
      "execution_count": 1,
      "outputs": [
        {
          "output_type": "stream",
          "text": [
            "3\n",
            "[12, 13, 14, 15, 16, 17]\n",
            "[12, 13, 14, 15, 16, 17, 'hello', 'hi', 'hey']\n",
            "[6, 1, 3, 5, 4, 2]\n"
          ],
          "name": "stdout"
        }
      ]
    }
  ]
}