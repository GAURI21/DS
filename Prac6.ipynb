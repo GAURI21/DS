{
  "nbformat": 4,
  "nbformat_minor": 0,
  "metadata": {
    "colab": {
      "name": "Prac6.ipynb",
      "provenance": [],
      "authorship_tag": "ABX9TyP2Qilu1yzhWjQxqrVZP/wx",
      "include_colab_link": true
    },
    "kernelspec": {
      "name": "python3",
      "display_name": "Python 3"
    }
  },
  "cells": [
    {
      "cell_type": "markdown",
      "metadata": {
        "id": "view-in-github",
        "colab_type": "text"
      },
      "source": [
        "<a href=\"https://colab.research.google.com/github/GAURI21/DS/blob/master/Prac6.ipynb\" target=\"_parent\"><img src=\"https://colab.research.google.com/assets/colab-badge.svg\" alt=\"Open In Colab\"/></a>"
      ]
    },
    {
      "cell_type": "code",
      "metadata": {
        "id": "JhjMox0T7yRe",
        "colab_type": "code",
        "colab": {
          "base_uri": "https://localhost:8080/",
          "height": 123
        },
        "outputId": "a8d975b7-d5a3-4f41-e6cb-5a7a2b21774a"
      },
      "source": [
        " \n",
        "list1 = [5,1,78,3,45,12,4,15,44,34,62,54]\n",
        "print(\"List = \",list1)\n",
        "n = len(list1)\n",
        "def bubbleSort():\n",
        "    print(\"Bubble Sorting\")\n",
        "    for i in range(n-1): \n",
        "        for j in range(0, n-i-1): \n",
        "            if list1[j] > list1[j+1] : \n",
        "                list1[j], list1[j+1] = list1[j+1], list1[j] \n",
        "    print(list1)\n",
        " \n",
        "def SelectionSort():\n",
        "    print(\"Selection Sorting\")\n",
        "    for i in range(n):\n",
        "        for j in range(i):\n",
        "            if list1[i]<list1[j]:\n",
        "                list1[i],list1[j] = list1[j],list1[i]\n",
        "    print(list1)\n",
        "    \n",
        "def InsertionSort():\n",
        "    print(\"Insertion Sorting\")\n",
        "    for i in range(1, n): \n",
        "        c = list1[i] \n",
        "        j = i-1\n",
        "        while j >=0 and c < list1[j] : \n",
        "                list1[j+1] = list1[j] \n",
        "                j -= 1\n",
        "        list1[j+1] = c\n",
        "    print(list1)\n",
        " \n",
        "inp = input(\"Enter (B) for Bubble Sort, (S) for elsection Sort and (I) for Insertion Sort \\n Enter here:\")\n",
        "if inp==\"B\" or inp==\"b\":\n",
        "    bubbleSort()\n",
        "elif inp==\"S\" or inp==\"s\":\n",
        "    SelectionSort()\n",
        "elif inp==\"I\" or inp==\"i\":\n",
        "    InsertionSort()\n",
        "else:\n",
        "    print(\"Invalid input\")"
      ],
      "execution_count": 1,
      "outputs": [
        {
          "output_type": "stream",
          "text": [
            "List =  [5, 1, 78, 3, 45, 12, 4, 15, 44, 34, 62, 54]\n",
            "Enter (B) for Bubble Sort, (S) for elsection Sort and (I) for Insertion Sort \n",
            " Enter here:B\n",
            "Bubble Sorting\n",
            "[1, 3, 4, 5, 12, 15, 34, 44, 45, 54, 62, 78]\n"
          ],
          "name": "stdout"
        }
      ]
    }
  ]
}