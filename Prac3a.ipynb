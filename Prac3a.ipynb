{
  "nbformat": 4,
  "nbformat_minor": 0,
  "metadata": {
    "colab": {
      "name": "Prac3a.ipynb",
      "provenance": [],
      "authorship_tag": "ABX9TyN0n0u5D0Sk/kPneRYrSjQV",
      "include_colab_link": true
    },
    "kernelspec": {
      "name": "python3",
      "display_name": "Python 3"
    }
  },
  "cells": [
    {
      "cell_type": "markdown",
      "metadata": {
        "id": "view-in-github",
        "colab_type": "text"
      },
      "source": [
        "<a href=\"https://colab.research.google.com/github/GAURI21/DS/blob/master/Prac3a.ipynb\" target=\"_parent\"><img src=\"https://colab.research.google.com/assets/colab-badge.svg\" alt=\"Open In Colab\"/></a>"
      ]
    },
    {
      "cell_type": "code",
      "metadata": {
        "id": "jY5hIDYtNHRP",
        "colab_type": "code",
        "colab": {
          "base_uri": "https://localhost:8080/",
          "height": 86
        },
        "outputId": "351dca07-42f5-402c-8f76-6f15134a1cae"
      },
      "source": [
        " \n",
        "from sys import maxsize \n",
        " \n",
        " \n",
        "def createStack(): \n",
        "    stack = [] \n",
        "    return stack \n",
        " \n",
        "def isEmpty(stack): \n",
        "    return len(stack) == 0\n",
        " \n",
        " \n",
        "def push(stack, item): \n",
        "    stack.append(item) \n",
        "    print(item + \" pushed to stack \") \n",
        "    \n",
        " \n",
        "def pop(stack): \n",
        "    if (isEmpty(stack)): \n",
        "        return str(-maxsize -1) \n",
        "    \n",
        "    return stack.pop() \n",
        " \n",
        " \n",
        "def peek(stack): \n",
        "    if (isEmpty(stack)): \n",
        "        return str(-maxsize -1) \n",
        "    return stack[len(stack) - 1] \n",
        " \n",
        " \n",
        "stack = createStack() \n",
        "push(stack, str(5)) \n",
        "push(stack, str(10)) \n",
        "push(stack, str(15)) \n",
        "print(pop(stack) + \" popped from stack\")"
      ],
      "execution_count": 10,
      "outputs": [
        {
          "output_type": "stream",
          "text": [
            "5 pushed to stack \n",
            "10 pushed to stack \n",
            "15 pushed to stack \n",
            "15 popped from stack\n"
          ],
          "name": "stdout"
        }
      ]
    }
  ]
}