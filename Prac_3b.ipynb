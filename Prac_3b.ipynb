{
  "nbformat": 4,
  "nbformat_minor": 0,
  "metadata": {
    "colab": {
      "name": "Prac 3b.ipynb",
      "provenance": [],
      "authorship_tag": "ABX9TyNGnMIAIYcgHPSVFlFnAaao",
      "include_colab_link": true
    },
    "kernelspec": {
      "name": "python3",
      "display_name": "Python 3"
    }
  },
  "cells": [
    {
      "cell_type": "markdown",
      "metadata": {
        "id": "view-in-github",
        "colab_type": "text"
      },
      "source": [
        "<a href=\"https://colab.research.google.com/github/GAURI21/DS/blob/master/Prac_3b.ipynb\" target=\"_parent\"><img src=\"https://colab.research.google.com/assets/colab-badge.svg\" alt=\"Open In Colab\"/></a>"
      ]
    },
    {
      "cell_type": "code",
      "metadata": {
        "id": "F1-9YAMeTXbA",
        "colab_type": "code",
        "colab": {
          "base_uri": "https://localhost:8080/",
          "height": 297
        },
        "outputId": "b074e34a-b222-41c5-8c48-b2fc4b0247bb"
      },
      "source": [
        " \n",
        "# Recursive Python function to solve the tower of hanoi \n",
        " \n",
        "  \n",
        " \n",
        "def TowerOfHanoi(n , source, destination, auxiliary): \n",
        " \n",
        "    if n==1: \n",
        " \n",
        "        print (\"Move disk 1 from source\",source,\"to destination\"),destination \n",
        " \n",
        "        return\n",
        " \n",
        "    TowerOfHanoi(n-1, source, auxiliary, destination) \n",
        " \n",
        "    print (\"Move disk\",n,\"from source\",source,\"to destination\"),destination \n",
        " \n",
        "    TowerOfHanoi(n-1, auxiliary, destination, source) \n",
        " \n",
        "          \n",
        "# Driver code \n",
        " \n",
        "n = 4\n",
        " \n",
        "TowerOfHanoi(n,'A','B','C')  \n",
        "# A, C, B are the name of rods"
      ],
      "execution_count": 2,
      "outputs": [
        {
          "output_type": "stream",
          "text": [
            "Move disk 1 from source A to destination\n",
            "Move disk 2 from source A to destination\n",
            "Move disk 1 from source C to destination\n",
            "Move disk 3 from source A to destination\n",
            "Move disk 1 from source B to destination\n",
            "Move disk 2 from source B to destination\n",
            "Move disk 1 from source A to destination\n",
            "Move disk 4 from source A to destination\n",
            "Move disk 1 from source C to destination\n",
            "Move disk 2 from source C to destination\n",
            "Move disk 1 from source B to destination\n",
            "Move disk 3 from source C to destination\n",
            "Move disk 1 from source A to destination\n",
            "Move disk 2 from source A to destination\n",
            "Move disk 1 from source C to destination\n"
          ],
          "name": "stdout"
        }
      ]
    }
  ]
}