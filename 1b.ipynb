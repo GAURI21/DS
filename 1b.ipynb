{
  "nbformat": 4,
  "nbformat_minor": 0,
  "metadata": {
    "colab": {
      "name": "1b.ipynb",
      "provenance": [],
      "authorship_tag": "ABX9TyM0hIMgxLqZjk3+bW+c+w+q",
      "include_colab_link": true
    },
    "kernelspec": {
      "name": "python3",
      "display_name": "Python 3"
    }
  },
  "cells": [
    {
      "cell_type": "markdown",
      "metadata": {
        "id": "view-in-github",
        "colab_type": "text"
      },
      "source": [
        "<a href=\"https://colab.research.google.com/github/GAURI21/DS/blob/master/1b.ipynb\" target=\"_parent\"><img src=\"https://colab.research.google.com/assets/colab-badge.svg\" alt=\"Open In Colab\"/></a>"
      ]
    },
    {
      "cell_type": "code",
      "metadata": {
        "id": "YQV92iUsHAc7",
        "outputId": "de6afab2-77de-43d8-f0d5-353f8830b9b9",
        "colab": {
          "base_uri": "https://localhost:8080/",
          "height": 433
        }
      },
      "source": [
        " \n",
        "#Python program to perform matrix operations, matrix addition,matrix subtraction,matrix multiplication - addition\n",
        " \n",
        " \n",
        "mat1 = [[10, 20], [50, 3]]\n",
        "mat2 = [[3, 2], [40, 2]]\n",
        "mat3 = [[0, 0], [0, 0]]\n",
        "for i in range(0, 2):\n",
        "    \n",
        "   for j in range(0, 2):\n",
        "       \n",
        "       mat3[i][j] = mat1[i][j] + mat2[i][j]\n",
        "       print(\"Addition of two matrices\")\n",
        "for i in range(0, 2):\n",
        "  for j in range(0, 2):\n",
        "       print(mat3[i][j], end = \"\")\n",
        "       print()\n",
        " \n",
        " \n",
        " \n",
        "#Python program to perform matrix operations, matrix addition,matrix subtraction,matrix multiplication - subtraction\n",
        " \n",
        " \n",
        "mat1 = [[10, 20], [50, 3]]\n",
        "mat2 = [[3, 2], [40, 2]]\n",
        "mat3 = [[0, 0], [0, 0]]\n",
        "for i in range(0, 2):\n",
        "    \n",
        "   for j in range(0, 2):\n",
        "       \n",
        "       mat3[i][j] = mat1[i][j] - mat2[i][j]\n",
        "       print(\"Subtraction of two matrices\")\n",
        "for i in range(0, 2):\n",
        "  for j in range(0, 2):\n",
        "       print(mat3[i][j], end = \"\")\n",
        "       print()\n",
        " \n",
        " \n",
        " \n",
        " \n",
        "#Python program to multiply two matrices\n",
        " \n",
        "mat1 = [[10, 20], [50, 3]]\n",
        "mat2 = [[3, 2], [40, 2]]\n",
        "mat3 = [[0, 0], [0, 0]]\n",
        " \n",
        "for i in range(0, 2):\n",
        "    \n",
        "   for j in range(0, 2):\n",
        "       \n",
        "       mat3[i][j] = mat1[i][j] * mat2[i][j]\n",
        "       print(\"Multiplication of two matrices\")\n",
        "for i in range(0, 2):\n",
        "  for j in range(0, 2):\n",
        "       print(mat3[i][j], end = \"\")\n",
        "       print()"
      ],
      "execution_count": 1,
      "outputs": [
        {
          "output_type": "stream",
          "text": [
            "Addition of two matrices\n",
            "Addition of two matrices\n",
            "Addition of two matrices\n",
            "Addition of two matrices\n",
            "13\n",
            "22\n",
            "90\n",
            "5\n",
            "Subtraction of two matrices\n",
            "Subtraction of two matrices\n",
            "Subtraction of two matrices\n",
            "Subtraction of two matrices\n",
            "7\n",
            "18\n",
            "10\n",
            "1\n",
            "Multiplication of two matrices\n",
            "Multiplication of two matrices\n",
            "Multiplication of two matrices\n",
            "Multiplication of two matrices\n",
            "30\n",
            "40\n",
            "2000\n",
            "6\n"
          ],
          "name": "stdout"
        }
      ]
    }
  ]
}