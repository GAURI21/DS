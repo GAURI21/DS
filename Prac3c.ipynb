{
  "nbformat": 4,
  "nbformat_minor": 0,
  "metadata": {
    "colab": {
      "name": "Prac3c.ipynb",
      "provenance": [],
      "authorship_tag": "ABX9TyOXQ1fodY3mDqdKnE+rkwNa",
      "include_colab_link": true
    },
    "kernelspec": {
      "name": "python3",
      "display_name": "Python 3"
    }
  },
  "cells": [
    {
      "cell_type": "markdown",
      "metadata": {
        "id": "view-in-github",
        "colab_type": "text"
      },
      "source": [
        "<a href=\"https://colab.research.google.com/github/GAURI21/DS/blob/master/Prac3c.ipynb\" target=\"_parent\"><img src=\"https://colab.research.google.com/assets/colab-badge.svg\" alt=\"Open In Colab\"/></a>"
      ]
    },
    {
      "cell_type": "code",
      "metadata": {
        "id": "pINsh8s1O2HI",
        "colab_type": "code",
        "colab": {
          "base_uri": "https://localhost:8080/",
          "height": 121
        },
        "outputId": "1513c218-d5d5-4b2a-8a26-0145d53e222d"
      },
      "source": [
        " \n",
        "def add(A, B, m, n): \n",
        " \n",
        "    size = max(m, n); \n",
        "    sum = [0 for i in range(size)] \n",
        " \n",
        " \n",
        "    \n",
        "    for i in range(0, m, 1): \n",
        "        sum[i] = A[i] \n",
        " \n",
        " \n",
        "    for i in range(n): \n",
        "        sum[i] += B[i] \n",
        " \n",
        "    return sum\n",
        " \n",
        " \n",
        "def printPoly(poly, n): \n",
        "    for i in range(n): \n",
        "        print(poly[i], end = \"\") \n",
        "        if (i != 0): \n",
        "            print(\"x^\", i, end = \"\") \n",
        "        if (i != n - 1): \n",
        "            print(\" + \", end = \"\") \n",
        " \n",
        " \n",
        "if __name__ == '__main__': \n",
        "    \n",
        "    \n",
        "    A = [5, 4, 10, 2] \n",
        " \n",
        "    \n",
        "    B = [1, 2, 4] \n",
        "    m = len(A) \n",
        "    n = len(B) \n",
        " \n",
        "    print(\"First polynomial is\") \n",
        "    printPoly(A, m) \n",
        "    print(\"\\n\", end = \"\") \n",
        "    print(\"Second polynomial is\") \n",
        "    printPoly(B, n) \n",
        "    print(\"\\n\", end = \"\") \n",
        "    sum = add(A, B, m, n) \n",
        "    size = max(m, n) \n",
        " \n",
        "    print(\"sum polynomial is\") \n",
        "    printPoly(sum, size)"
      ],
      "execution_count": 4,
      "outputs": [
        {
          "output_type": "stream",
          "text": [
            "First polynomial is\n",
            "5 + 4x^ 1 + 10x^ 2 + 2x^ 3\n",
            "Second polynomial is\n",
            "1 + 2x^ 1 + 4x^ 2\n",
            "sum polynomial is\n",
            "6 + 6x^ 1 + 14x^ 2 + 2x^ 3"
          ],
          "name": "stdout"
        }
      ]
    }
  ]
}