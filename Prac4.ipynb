{
  "nbformat": 4,
  "nbformat_minor": 0,
  "metadata": {
    "colab": {
      "name": "Prac4.ipynb",
      "provenance": [],
      "authorship_tag": "ABX9TyMlZ8QRVa21dPHO/E1Ih3F2",
      "include_colab_link": true
    },
    "kernelspec": {
      "name": "python3",
      "display_name": "Python 3"
    }
  },
  "cells": [
    {
      "cell_type": "markdown",
      "metadata": {
        "id": "view-in-github",
        "colab_type": "text"
      },
      "source": [
        "<a href=\"https://colab.research.google.com/github/GAURI21/DS/blob/master/Prac4.ipynb\" target=\"_parent\"><img src=\"https://colab.research.google.com/assets/colab-badge.svg\" alt=\"Open In Colab\"/></a>"
      ]
    },
    {
      "cell_type": "code",
      "metadata": {
        "id": "LKqtG3H5PrXR",
        "colab_type": "code",
        "colab": {
          "base_uri": "https://localhost:8080/",
          "height": 141
        },
        "outputId": "3ed6f491-a54d-4f3a-8cfe-9736870f1873"
      },
      "source": [
        " \n",
        "class Stack():\n",
        "    def __init__(self):\n",
        "        self.items = [0,2,3,4,5]\n",
        " \n",
        "    \n",
        "    \n",
        "    def enque(self,item):\n",
        "        self.items.append(item)\n",
        "        print(item)\n",
        " \n",
        "        \n",
        "    def deque(self):\n",
        "        b= self.items\n",
        "        b.pop()\n",
        "        print(b)\n",
        " \n",
        "    def traverse(self):\n",
        "        a = []\n",
        "        l = self.items\n",
        "        for i in l:\n",
        "            a.append(i)\n",
        "        print(a)\n",
        " \n",
        "s=Stack()\n",
        " \n",
        "print(\"Adding the element in the queue : \")\n",
        "s.enque(6)\n",
        "print(\"initial queue : \")\n",
        "s.traverse()\n",
        " \n",
        "print(\"After removing an element from the queue : \")\n",
        "s.deque()"
      ],
      "execution_count": 3,
      "outputs": [
        {
          "output_type": "stream",
          "text": [
            "Adding the element in the queue : \n",
            "6\n",
            "initial queue : \n",
            "[0, 2, 3, 4, 5, 6]\n",
            "After removing an element from the queue : \n",
            "[0, 2, 3, 4, 5]\n"
          ],
          "name": "stdout"
        }
      ]
    }
  ]
}