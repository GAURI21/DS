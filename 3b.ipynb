{
  "nbformat": 4,
  "nbformat_minor": 0,
  "metadata": {
    "colab": {
      "name": "3b.ipynb",
      "provenance": [],
      "authorship_tag": "ABX9TyNiDLrubJDLSkNDzLg52EJ/",
      "include_colab_link": true
    },
    "kernelspec": {
      "name": "python3",
      "display_name": "Python 3"
    }
  },
  "cells": [
    {
      "cell_type": "markdown",
      "metadata": {
        "id": "view-in-github",
        "colab_type": "text"
      },
      "source": [
        "<a href=\"https://colab.research.google.com/github/GAURI21/DS/blob/master/3b.ipynb\" target=\"_parent\"><img src=\"https://colab.research.google.com/assets/colab-badge.svg\" alt=\"Open In Colab\"/></a>"
      ]
    },
    {
      "cell_type": "code",
      "metadata": {
        "id": "qf0YwLvrB6LZ",
        "outputId": "3086bcad-e340-4627-f2e0-d6f1cebb9c13",
        "colab": {
          "base_uri": "https://localhost:8080/",
          "height": 155
        }
      },
      "source": [
        " \n",
        "def hanoi(disks, source, auxiliary, target):\n",
        "    if disks == 1:\n",
        "        print('Move disk 1 from peg {} to peg {}.'.format(source, target))\n",
        "        return\n",
        " \n",
        "    hanoi(disks - 1, source, target, auxiliary)\n",
        "    print('Move disk {} from peg {} to peg {}.'.format(disks, source, target))\n",
        "    hanoi(disks - 1, auxiliary, source, target)\n",
        " \n",
        " \n",
        "disks = int(input('Enter number of disks: '))\n",
        "hanoi(disks, 'A', 'B', 'C')"
      ],
      "execution_count": 1,
      "outputs": [
        {
          "output_type": "stream",
          "text": [
            "Enter number of disks: 3\n",
            "Move disk 1 from peg A to peg C.\n",
            "Move disk 2 from peg A to peg B.\n",
            "Move disk 1 from peg C to peg B.\n",
            "Move disk 3 from peg A to peg C.\n",
            "Move disk 1 from peg B to peg A.\n",
            "Move disk 2 from peg B to peg C.\n",
            "Move disk 1 from peg A to peg C.\n"
          ],
          "name": "stdout"
        }
      ]
    }
  ]
}